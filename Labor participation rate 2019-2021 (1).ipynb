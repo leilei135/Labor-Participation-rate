{
 "cells": [
  {
   "cell_type": "code",
   "execution_count": 1,
   "id": "737713f1",
   "metadata": {},
   "outputs": [
    {
     "data": {
      "text/html": [
       "<div>\n",
       "<style scoped>\n",
       "    .dataframe tbody tr th:only-of-type {\n",
       "        vertical-align: middle;\n",
       "    }\n",
       "\n",
       "    .dataframe tbody tr th {\n",
       "        vertical-align: top;\n",
       "    }\n",
       "\n",
       "    .dataframe thead th {\n",
       "        text-align: right;\n",
       "    }\n",
       "</style>\n",
       "<table border=\"1\" class=\"dataframe\">\n",
       "  <thead>\n",
       "    <tr style=\"text-align: right;\">\n",
       "      <th></th>\n",
       "      <th>Year</th>\n",
       "      <th>Period</th>\n",
       "      <th>labor force participation rate</th>\n",
       "      <th>employment-population ratio</th>\n",
       "      <th>labor force</th>\n",
       "      <th>change/month</th>\n",
       "      <th>employment</th>\n",
       "      <th>unemployment</th>\n",
       "      <th>Unemployment decrease/increase</th>\n",
       "      <th>unemployment rate</th>\n",
       "      <th>Unemployment rate increase/decrease</th>\n",
       "    </tr>\n",
       "  </thead>\n",
       "  <tbody>\n",
       "    <tr>\n",
       "      <th>0</th>\n",
       "      <td>2019</td>\n",
       "      <td>Jan</td>\n",
       "      <td>64.7</td>\n",
       "      <td>61.7</td>\n",
       "      <td>3869370</td>\n",
       "      <td>NaN</td>\n",
       "      <td>3694099</td>\n",
       "      <td>175271</td>\n",
       "      <td>NaN</td>\n",
       "      <td>4.5</td>\n",
       "      <td>NaN</td>\n",
       "    </tr>\n",
       "    <tr>\n",
       "      <th>1</th>\n",
       "      <td>2019</td>\n",
       "      <td>Feb</td>\n",
       "      <td>64.7</td>\n",
       "      <td>61.8</td>\n",
       "      <td>3875239</td>\n",
       "      <td>5,869.00</td>\n",
       "      <td>3702019</td>\n",
       "      <td>173220</td>\n",
       "      <td>-2051.0</td>\n",
       "      <td>4.5</td>\n",
       "      <td>0.00%</td>\n",
       "    </tr>\n",
       "    <tr>\n",
       "      <th>2</th>\n",
       "      <td>2019</td>\n",
       "      <td>Mar</td>\n",
       "      <td>64.7</td>\n",
       "      <td>61.9</td>\n",
       "      <td>3880632</td>\n",
       "      <td>5,393.00</td>\n",
       "      <td>3710734</td>\n",
       "      <td>169898</td>\n",
       "      <td>-3322.0</td>\n",
       "      <td>4.4</td>\n",
       "      <td>-10.00%</td>\n",
       "    </tr>\n",
       "    <tr>\n",
       "      <th>3</th>\n",
       "      <td>2019</td>\n",
       "      <td>Apr</td>\n",
       "      <td>64.8</td>\n",
       "      <td>62.0</td>\n",
       "      <td>3887284</td>\n",
       "      <td>6,652.00</td>\n",
       "      <td>3720954</td>\n",
       "      <td>166330</td>\n",
       "      <td>-3568.0</td>\n",
       "      <td>4.3</td>\n",
       "      <td>-10.00%</td>\n",
       "    </tr>\n",
       "    <tr>\n",
       "      <th>4</th>\n",
       "      <td>2019</td>\n",
       "      <td>May</td>\n",
       "      <td>64.8</td>\n",
       "      <td>62.1</td>\n",
       "      <td>3895753</td>\n",
       "      <td>8,469.00</td>\n",
       "      <td>3732380</td>\n",
       "      <td>163373</td>\n",
       "      <td>-2957.0</td>\n",
       "      <td>4.2</td>\n",
       "      <td>-10.00%</td>\n",
       "    </tr>\n",
       "  </tbody>\n",
       "</table>\n",
       "</div>"
      ],
      "text/plain": [
       "   Year Period  labor force participation rate  employment-population ratio  \\\n",
       "0  2019    Jan                            64.7                         61.7   \n",
       "1  2019    Feb                            64.7                         61.8   \n",
       "2  2019    Mar                            64.7                         61.9   \n",
       "3  2019    Apr                            64.8                         62.0   \n",
       "4  2019    May                            64.8                         62.1   \n",
       "\n",
       "   labor force change/month  employment  unemployment  \\\n",
       "0      3869370          NaN     3694099        175271   \n",
       "1      3875239     5,869.00     3702019        173220   \n",
       "2      3880632     5,393.00     3710734        169898   \n",
       "3      3887284     6,652.00     3720954        166330   \n",
       "4      3895753     8,469.00     3732380        163373   \n",
       "\n",
       "   Unemployment decrease/increase  unemployment rate  \\\n",
       "0                             NaN                4.5   \n",
       "1                         -2051.0                4.5   \n",
       "2                         -3322.0                4.4   \n",
       "3                         -3568.0                4.3   \n",
       "4                         -2957.0                4.2   \n",
       "\n",
       "  Unemployment rate increase/decrease  \n",
       "0                                 NaN  \n",
       "1                               0.00%  \n",
       "2                             -10.00%  \n",
       "3                             -10.00%  \n",
       "4                             -10.00%  "
      ]
     },
     "execution_count": 1,
     "metadata": {},
     "output_type": "execute_result"
    }
   ],
   "source": [
    "import pandas as pd\n",
    "\n",
    "df = pd.read_csv('downloads/Unemployment rate in Washington - Sheet1.csv')\n",
    "\n",
    "df.head()"
   ]
  },
  {
   "cell_type": "code",
   "execution_count": 2,
   "id": "2586674d",
   "metadata": {},
   "outputs": [
    {
     "name": "stdout",
     "output_type": "stream",
     "text": [
      "2019=black 2020=red 2021=yellow\n"
     ]
    },
    {
     "data": {
      "image/png": "[encoded data removed]",
      "text/plain": [
       "<Figure size 432x288 with 1 Axes>"
      ]
     },
     "metadata": {
      "needs_background": "light"
     },
     "output_type": "display_data"
    }
   ],
   "source": [
    "y = list(df['labor force participation rate'])\n",
    "x = list(df['Period'])\n",
    "z = list(df['Year'])\n",
    "\n",
    "import matplotlib.pyplot as plt\n",
    "\n",
    "plt.scatter(x,y,c=z, cmap='magma')\n",
    "plt.xlabel(\"Period\")\n",
    "plt.ylabel(\"Labor Force Participation Rate\")\n",
    "\n",
    "print(\"2019=black\",\"2020=red\",\"2021=yellow\")"
   ]
  },
  {
   "cell_type": "code",
   "execution_count": null,
   "id": "e05003ff",
   "metadata": {},
   "outputs": [],
   "source": []
  }
 ],
 "metadata": {
  "kernelspec": {
   "display_name": "Python 3 (ipykernel)",
   "language": "python",
   "name": "python3"
  },
  "language_info": {
   "codemirror_mode": {
    "name": "ipython",
    "version": 3
   },
   "file_extension": ".py",
   "mimetype": "text/x-python",
   "name": "python",
   "nbconvert_exporter": "python",
   "pygments_lexer": "ipython3",
   "version": "3.9.7"
  }
 },
 "nbformat": 4,
 "nbformat_minor": 5
}
